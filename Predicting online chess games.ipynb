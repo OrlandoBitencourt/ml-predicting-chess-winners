{
 "cells": [
  {
   "cell_type": "markdown",
   "id": "3c3aa96e",
   "metadata": {},
   "source": [
    "# Predicting online chess games"
   ]
  },
  {
   "cell_type": "markdown",
   "id": "804b4f6c",
   "metadata": {},
   "source": [
    "Importing libs"
   ]
  },
  {
   "cell_type": "code",
   "execution_count": 1,
   "id": "ae74dda2",
   "metadata": {},
   "outputs": [],
   "source": [
    "import pandas as pd\n",
    "import numpy as np\n",
    "from sklearn.linear_model import LogisticRegression\n",
    "from sklearn.tree import DecisionTreeClassifier\n",
    "from sklearn.naive_bayes import GaussianNB\n",
    "from sklearn.svm import SVC\n",
    "from sklearn.metrics import accuracy_score , f1_score, precision_score, recall_score\n",
    "from sklearn.feature_selection import SelectKBest\n",
    "from sklearn.model_selection import  GridSearchCV\n",
    "from sklearn.preprocessing import StandardScaler, MinMaxScaler\n",
    "from IPython.display import display\n",
    "import matplotlib.pyplot as plt\n",
    "import seaborn as sns\n",
    "from sklearn.preprocessing import scale\n",
    "%matplotlib inline"
   ]
  },
  {
   "cell_type": "markdown",
   "id": "971c9ce9",
   "metadata": {},
   "source": [
    "Dataset = 'chess_games.csv' \n",
    "Avaliable at: https://www.kaggle.com/mysarahmadbhat/online-chess-games\n",
    "\n",
    "<b>DATASET INFO - Columns:<b> \n",
    "\n",
    "<b>game_id</b>: type: int, unique match id.<br>\n",
    "<b>rated</b>: type: bool, if the match is rated = true if not false.<br>\n",
    "<b>turns</b>: type: int, qtd of turns.<br>\n",
    "<b>victory_status</b>: type string, represents the type of victory move.<br>\n",
    "<b>winner </b>:  type string, is the winner of the game, values: Black, White or Draw<br>\n",
    "<b>time_increment</b>: type string, time used in minutes by each player.<br>\n",
    "<b>white_id</b>: type string, name/id of the white player.<br>\n",
    "<b>white_rating</b>: type int, game rating of the white player.<br>\n",
    "<b>black_id</b>: type string, name/id of the black player.<br>\n",
    "<b>black_rating</b>: type int, game rating of the black player.<br>\n",
    "<b>moves</b>: type string, moves from the game.<br>\n",
    "<b>opening_code</b>: not used<br>\n",
    "<b>opening_moves</b>: not used<br>\n",
    "<b>opening_fullname</b>: not used<br>\n",
    "<b>opening_shortname</b>: not used<br>\n",
    "<b>opening_response</b>: not used<br>\n",
    "<b>opening_variation</b>: not used<br>\n",
    "\n",
    "Created/edited after running the <b>transform.py</b> script:<br>    \n",
    "<b>black_user_unique_id</b>: CREATED, type int, unique int unique id created based on the string black_id from original dataset<br>\n",
    "<b>white_user_unique_id</b>: CREATED, type int, unique int unique id created based on the string white_id from original dataset<br>\n",
    "<b>winner </b>: EDITED, type int, converted to int: 0 = Black, 1 = White, 2 = Draw.<br>\n",
    "\n",
    "<b>Reading the first 5 lines of output.csv data:<b> "
   ]
  },
  {
   "cell_type": "code",
   "execution_count": 2,
   "id": "77400d83",
   "metadata": {
    "scrolled": true
   },
   "outputs": [
    {
     "data": {
      "text/html": [
       "<div>\n",
       "<style scoped>\n",
       "    .dataframe tbody tr th:only-of-type {\n",
       "        vertical-align: middle;\n",
       "    }\n",
       "\n",
       "    .dataframe tbody tr th {\n",
       "        vertical-align: top;\n",
       "    }\n",
       "\n",
       "    .dataframe thead th {\n",
       "        text-align: right;\n",
       "    }\n",
       "</style>\n",
       "<table border=\"1\" class=\"dataframe\">\n",
       "  <thead>\n",
       "    <tr style=\"text-align: right;\">\n",
       "      <th></th>\n",
       "      <th>game_id</th>\n",
       "      <th>rated</th>\n",
       "      <th>turns</th>\n",
       "      <th>victory_status</th>\n",
       "      <th>winner</th>\n",
       "      <th>time_increment</th>\n",
       "      <th>white_id</th>\n",
       "      <th>white_rating</th>\n",
       "      <th>black_id</th>\n",
       "      <th>black_rating</th>\n",
       "      <th>moves</th>\n",
       "      <th>opening_code</th>\n",
       "      <th>opening_moves</th>\n",
       "      <th>opening_fullname</th>\n",
       "      <th>opening_shortname</th>\n",
       "      <th>opening_response</th>\n",
       "      <th>opening_variation</th>\n",
       "      <th>black_user_unique_id</th>\n",
       "      <th>white_user_unique_id</th>\n",
       "    </tr>\n",
       "  </thead>\n",
       "  <tbody>\n",
       "    <tr>\n",
       "      <th>0</th>\n",
       "      <td>1</td>\n",
       "      <td>False</td>\n",
       "      <td>13</td>\n",
       "      <td>Out of Time</td>\n",
       "      <td>1</td>\n",
       "      <td>15+2</td>\n",
       "      <td>bourgris</td>\n",
       "      <td>1500</td>\n",
       "      <td>a-00</td>\n",
       "      <td>1191</td>\n",
       "      <td>d4 d5 c4 c6 cxd5 e6 dxe6 fxe6 Nf3 Bb4+ Nc3 Ba5...</td>\n",
       "      <td>D10</td>\n",
       "      <td>5</td>\n",
       "      <td>Slav Defense: Exchange Variation</td>\n",
       "      <td>Slav Defense</td>\n",
       "      <td>NaN</td>\n",
       "      <td>Exchange Variation</td>\n",
       "      <td>276007899197</td>\n",
       "      <td>236663457947</td>\n",
       "    </tr>\n",
       "    <tr>\n",
       "      <th>1</th>\n",
       "      <td>2</td>\n",
       "      <td>True</td>\n",
       "      <td>16</td>\n",
       "      <td>Resign</td>\n",
       "      <td>0</td>\n",
       "      <td>5+10</td>\n",
       "      <td>a-00</td>\n",
       "      <td>1322</td>\n",
       "      <td>skinnerua</td>\n",
       "      <td>1261</td>\n",
       "      <td>d4 Nc6 e4 e5 f4 f6 dxe5 fxe5 fxe5 Nxe5 Qd4 Nc6...</td>\n",
       "      <td>B00</td>\n",
       "      <td>4</td>\n",
       "      <td>Nimzowitsch Defense: Kennedy Variation</td>\n",
       "      <td>Nimzowitsch Defense</td>\n",
       "      <td>NaN</td>\n",
       "      <td>Kennedy Variation</td>\n",
       "      <td>293209252596</td>\n",
       "      <td>308340708622</td>\n",
       "    </tr>\n",
       "    <tr>\n",
       "      <th>2</th>\n",
       "      <td>3</td>\n",
       "      <td>True</td>\n",
       "      <td>61</td>\n",
       "      <td>Mate</td>\n",
       "      <td>1</td>\n",
       "      <td>5+10</td>\n",
       "      <td>ischia</td>\n",
       "      <td>1496</td>\n",
       "      <td>a-00</td>\n",
       "      <td>1500</td>\n",
       "      <td>e4 e5 d3 d6 Be3 c6 Be2 b5 Nd2 a5 a4 c5 axb5 Nc...</td>\n",
       "      <td>C20</td>\n",
       "      <td>3</td>\n",
       "      <td>King's Pawn Game: Leonardis Variation</td>\n",
       "      <td>King's Pawn Game</td>\n",
       "      <td>NaN</td>\n",
       "      <td>Leonardis Variation</td>\n",
       "      <td>266980489497</td>\n",
       "      <td>276007899197</td>\n",
       "    </tr>\n",
       "    <tr>\n",
       "      <th>3</th>\n",
       "      <td>4</td>\n",
       "      <td>True</td>\n",
       "      <td>61</td>\n",
       "      <td>Mate</td>\n",
       "      <td>1</td>\n",
       "      <td>20+0</td>\n",
       "      <td>daniamurashov</td>\n",
       "      <td>1439</td>\n",
       "      <td>adivanov2009</td>\n",
       "      <td>1454</td>\n",
       "      <td>d4 d5 Nf3 Bf5 Nc3 Nf6 Bf4 Ng4 e3 Nc6 Be2 Qd7 O...</td>\n",
       "      <td>D02</td>\n",
       "      <td>3</td>\n",
       "      <td>Queen's Pawn Game: Zukertort Variation</td>\n",
       "      <td>Queen's Pawn Game</td>\n",
       "      <td>NaN</td>\n",
       "      <td>Zukertort Variation</td>\n",
       "      <td>111711753589</td>\n",
       "      <td>794206812856</td>\n",
       "    </tr>\n",
       "    <tr>\n",
       "      <th>4</th>\n",
       "      <td>5</td>\n",
       "      <td>True</td>\n",
       "      <td>95</td>\n",
       "      <td>Mate</td>\n",
       "      <td>1</td>\n",
       "      <td>30+3</td>\n",
       "      <td>nik221107</td>\n",
       "      <td>1523</td>\n",
       "      <td>adivanov2009</td>\n",
       "      <td>1469</td>\n",
       "      <td>e4 e5 Nf3 d6 d4 Nc6 d5 Nb4 a3 Na6 Nc3 Be7 b4 N...</td>\n",
       "      <td>C41</td>\n",
       "      <td>5</td>\n",
       "      <td>Philidor Defense</td>\n",
       "      <td>Philidor Defense</td>\n",
       "      <td>NaN</td>\n",
       "      <td>NaN</td>\n",
       "      <td>296516107568</td>\n",
       "      <td>203527055427</td>\n",
       "    </tr>\n",
       "  </tbody>\n",
       "</table>\n",
       "</div>"
      ],
      "text/plain": [
       "   game_id  rated  turns victory_status  winner time_increment       white_id  \\\n",
       "0        1  False     13    Out of Time       1           15+2       bourgris   \n",
       "1        2   True     16         Resign       0           5+10           a-00   \n",
       "2        3   True     61           Mate       1           5+10         ischia   \n",
       "3        4   True     61           Mate       1           20+0  daniamurashov   \n",
       "4        5   True     95           Mate       1           30+3      nik221107   \n",
       "\n",
       "   white_rating      black_id  black_rating  \\\n",
       "0          1500          a-00          1191   \n",
       "1          1322     skinnerua          1261   \n",
       "2          1496          a-00          1500   \n",
       "3          1439  adivanov2009          1454   \n",
       "4          1523  adivanov2009          1469   \n",
       "\n",
       "                                               moves opening_code  \\\n",
       "0  d4 d5 c4 c6 cxd5 e6 dxe6 fxe6 Nf3 Bb4+ Nc3 Ba5...          D10   \n",
       "1  d4 Nc6 e4 e5 f4 f6 dxe5 fxe5 fxe5 Nxe5 Qd4 Nc6...          B00   \n",
       "2  e4 e5 d3 d6 Be3 c6 Be2 b5 Nd2 a5 a4 c5 axb5 Nc...          C20   \n",
       "3  d4 d5 Nf3 Bf5 Nc3 Nf6 Bf4 Ng4 e3 Nc6 Be2 Qd7 O...          D02   \n",
       "4  e4 e5 Nf3 d6 d4 Nc6 d5 Nb4 a3 Na6 Nc3 Be7 b4 N...          C41   \n",
       "\n",
       "   opening_moves                        opening_fullname    opening_shortname  \\\n",
       "0              5        Slav Defense: Exchange Variation         Slav Defense   \n",
       "1              4  Nimzowitsch Defense: Kennedy Variation  Nimzowitsch Defense   \n",
       "2              3   King's Pawn Game: Leonardis Variation     King's Pawn Game   \n",
       "3              3  Queen's Pawn Game: Zukertort Variation    Queen's Pawn Game   \n",
       "4              5                        Philidor Defense     Philidor Defense   \n",
       "\n",
       "  opening_response    opening_variation  black_user_unique_id  \\\n",
       "0              NaN   Exchange Variation          276007899197   \n",
       "1              NaN    Kennedy Variation          293209252596   \n",
       "2              NaN  Leonardis Variation          266980489497   \n",
       "3              NaN  Zukertort Variation          111711753589   \n",
       "4              NaN                  NaN          296516107568   \n",
       "\n",
       "   white_user_unique_id  \n",
       "0          236663457947  \n",
       "1          308340708622  \n",
       "2          276007899197  \n",
       "3          794206812856  \n",
       "4          203527055427  "
      ]
     },
     "metadata": {},
     "output_type": "display_data"
    }
   ],
   "source": [
    "data=pd.read_csv('output.csv',delimiter=',')\n",
    "\n",
    "display(data.head())"
   ]
  },
  {
   "cell_type": "markdown",
   "id": "9c26c519",
   "metadata": {},
   "source": [
    "# Explorando as informações do dataset\n",
    "\n",
    "<b>Coletando dados:</b>"
   ]
  },
  {
   "cell_type": "code",
   "execution_count": 3,
   "id": "d1e296c1",
   "metadata": {},
   "outputs": [],
   "source": [
    "games_total = matches = data.shape[0]\n",
    "\n",
    "columns = data.shape[1] - 7\n",
    "\n",
    "winner_black = len(data[data.winner==0])\n",
    "\n",
    "winner_white = len(data[data.winner==1])\n",
    "\n",
    "draw = len(data[data.winner==2])\n",
    "\n",
    "black_win_rate = (float(winner_black)/(games_total)) *100\n",
    "\n",
    "white_win_rate = (float(winner_white)/(games_total)) *100\n",
    "\n",
    "draw_rate = (float(draw)/(games_total)) *100\n",
    "\n",
    "match_winners = [winner_black, winner_white, draw]"
   ]
  },
  {
   "cell_type": "markdown",
   "id": "a22c9811",
   "metadata": {},
   "source": [
    "# Apresentando informações: "
   ]
  },
  {
   "cell_type": "code",
   "execution_count": 4,
   "id": "268cb6bc",
   "metadata": {},
   "outputs": [
    {
     "data": {
      "image/png": "[encoded data removed]",
      "text/plain": [
       "<Figure size 432x288 with 1 Axes>"
      ]
     },
     "metadata": {
      "needs_background": "light"
     },
     "output_type": "display_data"
    },
    {
     "name": "stdout",
     "output_type": "stream",
     "text": [
      "Total de partidas:  20058\n",
      "Total de colunas utilizadas:  12\n",
      "Total de partidas ganhos peças pretas: 9107, taxa: 45.403330342008175%.\n",
      "Total de partidas ganhos peças brancas: 10001, taxa: 49.86040482600458%.\n",
      "Total de empates: 950, taxa: 4.736264831987238%.\n"
     ]
    }
   ],
   "source": [
    "plot = np.arange(3)\n",
    "\n",
    "plt.rcParams['axes.facecolor'] = 'xkcd:salmon'\n",
    "\n",
    "plt.bar(plot, match_winners, color=['Black', 'White', 'Green'])\n",
    "\n",
    "plt.xticks(plot, ('Black', 'White', 'Draw'))\n",
    "\n",
    "plt.show()\n",
    "\n",
    "print ('Total de partidas: ', games_total)\n",
    "print ('Total de colunas utilizadas: ', columns)\n",
    "print (f'Total de partidas ganhos peças pretas: {winner_black}, taxa: {black_win_rate}%.')\n",
    "print (f'Total de partidas ganhos peças brancas: {winner_white}, taxa: {white_win_rate}%.')\n",
    "print (f'Total de empates: {draw}, taxa: {draw_rate}%.')"
   ]
  },
  {
   "cell_type": "code",
   "execution_count": 5,
   "id": "0538abd0",
   "metadata": {},
   "outputs": [
    {
     "name": "stderr",
     "output_type": "stream",
     "text": [
      "/tmp/ipykernel_8378/2953796330.py:1: FutureWarning: In a future version of pandas all arguments of DataFrame.drop except for the argument 'labels' will be keyword-only.\n",
      "  num_data = data.drop(\n"
     ]
    },
    {
     "data": {
      "text/html": [
       "<div>\n",
       "<style scoped>\n",
       "    .dataframe tbody tr th:only-of-type {\n",
       "        vertical-align: middle;\n",
       "    }\n",
       "\n",
       "    .dataframe tbody tr th {\n",
       "        vertical-align: top;\n",
       "    }\n",
       "\n",
       "    .dataframe thead th {\n",
       "        text-align: right;\n",
       "    }\n",
       "</style>\n",
       "<table border=\"1\" class=\"dataframe\">\n",
       "  <thead>\n",
       "    <tr style=\"text-align: right;\">\n",
       "      <th></th>\n",
       "      <th>game_id</th>\n",
       "      <th>rated</th>\n",
       "      <th>turns</th>\n",
       "      <th>winner</th>\n",
       "      <th>white_rating</th>\n",
       "      <th>black_rating</th>\n",
       "      <th>black_user_unique_id</th>\n",
       "      <th>white_user_unique_id</th>\n",
       "    </tr>\n",
       "  </thead>\n",
       "  <tbody>\n",
       "    <tr>\n",
       "      <th>0</th>\n",
       "      <td>1</td>\n",
       "      <td>False</td>\n",
       "      <td>13</td>\n",
       "      <td>1</td>\n",
       "      <td>1500</td>\n",
       "      <td>1191</td>\n",
       "      <td>276007899197</td>\n",
       "      <td>236663457947</td>\n",
       "    </tr>\n",
       "    <tr>\n",
       "      <th>1</th>\n",
       "      <td>2</td>\n",
       "      <td>True</td>\n",
       "      <td>16</td>\n",
       "      <td>0</td>\n",
       "      <td>1322</td>\n",
       "      <td>1261</td>\n",
       "      <td>293209252596</td>\n",
       "      <td>308340708622</td>\n",
       "    </tr>\n",
       "    <tr>\n",
       "      <th>2</th>\n",
       "      <td>3</td>\n",
       "      <td>True</td>\n",
       "      <td>61</td>\n",
       "      <td>1</td>\n",
       "      <td>1496</td>\n",
       "      <td>1500</td>\n",
       "      <td>266980489497</td>\n",
       "      <td>276007899197</td>\n",
       "    </tr>\n",
       "    <tr>\n",
       "      <th>3</th>\n",
       "      <td>4</td>\n",
       "      <td>True</td>\n",
       "      <td>61</td>\n",
       "      <td>1</td>\n",
       "      <td>1439</td>\n",
       "      <td>1454</td>\n",
       "      <td>111711753589</td>\n",
       "      <td>794206812856</td>\n",
       "    </tr>\n",
       "    <tr>\n",
       "      <th>4</th>\n",
       "      <td>5</td>\n",
       "      <td>True</td>\n",
       "      <td>95</td>\n",
       "      <td>1</td>\n",
       "      <td>1523</td>\n",
       "      <td>1469</td>\n",
       "      <td>296516107568</td>\n",
       "      <td>203527055427</td>\n",
       "    </tr>\n",
       "  </tbody>\n",
       "</table>\n",
       "</div>"
      ],
      "text/plain": [
       "   game_id  rated  turns  winner  white_rating  black_rating  \\\n",
       "0        1  False     13       1          1500          1191   \n",
       "1        2   True     16       0          1322          1261   \n",
       "2        3   True     61       1          1496          1500   \n",
       "3        4   True     61       1          1439          1454   \n",
       "4        5   True     95       1          1523          1469   \n",
       "\n",
       "   black_user_unique_id  white_user_unique_id  \n",
       "0          276007899197          236663457947  \n",
       "1          293209252596          308340708622  \n",
       "2          266980489497          276007899197  \n",
       "3          111711753589          794206812856  \n",
       "4          296516107568          203527055427  "
      ]
     },
     "metadata": {},
     "output_type": "display_data"
    }
   ],
   "source": [
    "num_data = data.drop(\n",
    "    [\n",
    "        'moves', 'opening_code', 'victory_status', 'time_increment', 'opening_moves', 'opening_fullname', \n",
    "        'opening_shortname','opening_response', 'opening_variation', 'white_id', 'black_id'\n",
    "    ],\n",
    "    1\n",
    ")\n",
    "\n",
    "display(num_data.head())"
   ]
  },
  {
   "cell_type": "code",
   "execution_count": 6,
   "id": "1ce4a469",
   "metadata": {},
   "outputs": [
    {
     "name": "stdout",
     "output_type": "stream",
     "text": [
      "Features    game_id  rated  turns  white_rating  black_rating  black_user_unique_id  \\\n",
      "0        1  False     13          1500          1191          276007899197   \n",
      "1        2   True     16          1322          1261          293209252596   \n",
      "2        3   True     61          1496          1500          266980489497   \n",
      "3        4   True     61          1439          1454          111711753589   \n",
      "4        5   True     95          1523          1469          296516107568   \n",
      "\n",
      "   white_user_unique_id  \n",
      "0          236663457947  \n",
      "1          308340708622  \n",
      "2          276007899197  \n",
      "3          794206812856  \n",
      "4          203527055427  \n",
      "Labels 0    1\n",
      "1    0\n",
      "2    1\n",
      "3    1\n",
      "4    1\n",
      "Name: winner, dtype: int64\n"
     ]
    },
    {
     "name": "stderr",
     "output_type": "stream",
     "text": [
      "/tmp/ipykernel_8378/3076554818.py:2: FutureWarning: In a future version of pandas all arguments of DataFrame.drop except for the argument 'labels' will be keyword-only.\n",
      "  feat = num_data.drop(['winner'], 1)\n"
     ]
    }
   ],
   "source": [
    "#separa as features \n",
    "feat = num_data.drop(['winner'], 1)\n",
    "print('Features', feat.head())\n",
    "\n",
    "#separa as labels\n",
    "labels = num_data['winner']\n",
    "print('Labels', labels.head())"
   ]
  },
  {
   "cell_type": "markdown",
   "id": "9aa3991c",
   "metadata": {},
   "source": [
    "# Escolhendo as melhores features com Kbest (SelectKBest)"
   ]
  },
  {
   "cell_type": "code",
   "execution_count": 7,
   "id": "1d111cb4",
   "metadata": {},
   "outputs": [
    {
     "name": "stdout",
     "output_type": "stream",
     "text": [
      "Melhores features:\n",
      "{'white_rating': 320.117553614993, 'black_rating': 302.7205624697925, 'black_user_unique_id': 228.15554234209412, 'white_user_unique_id': 8.002775898174308, 'rated': 1.838394977570937}\n"
     ]
    }
   ],
   "source": [
    "features_list = (\n",
    "    'game_id', 'rated', 'white_user_unique_id', 'white_rating', 'black_user_unique_id', 'black_rating'\n",
    ")\n",
    "\n",
    "k_best_features = SelectKBest(k='all')\n",
    "\n",
    "k_best_features.fit_transform(feat, labels)\n",
    "\n",
    "k_best_features_scores = k_best_features.scores_\n",
    "\n",
    "raw_pairs = zip(features_list[1:], k_best_features_scores)\n",
    "\n",
    "ordered_pairs = list(reversed(sorted(raw_pairs, key=lambda x: x[1])))\n",
    "\n",
    "k_best_features_final = dict(ordered_pairs[:15])\n",
    "\n",
    "best_features = k_best_features_final.keys()\n",
    "\n",
    "print(\"Melhores features:\")\n",
    "print(k_best_features_final)"
   ]
  },
  {
   "cell_type": "markdown",
   "id": "2fb1118f",
   "metadata": {},
   "source": [
    "# separa as features e labels com base nas melhores features para treinamento"
   ]
  },
  {
   "cell_type": "code",
   "execution_count": 8,
   "id": "9c82374f",
   "metadata": {},
   "outputs": [
    {
     "name": "stdout",
     "output_type": "stream",
     "text": [
      "Features    game_id  white_rating  black_rating  black_user_unique_id  \\\n",
      "0        1          1500          1191          276007899197   \n",
      "1        2          1322          1261          293209252596   \n",
      "2        3          1496          1500          266980489497   \n",
      "3        4          1439          1454          111711753589   \n",
      "4        5          1523          1469          296516107568   \n",
      "\n",
      "   white_user_unique_id  \n",
      "0          236663457947  \n",
      "1          308340708622  \n",
      "2          276007899197  \n",
      "3          794206812856  \n",
      "4          203527055427  \n",
      "Labels 0    1\n",
      "1    0\n",
      "2    1\n",
      "3    1\n",
      "4    1\n",
      "Name: winner, dtype: int64\n"
     ]
    },
    {
     "name": "stderr",
     "output_type": "stream",
     "text": [
      "/tmp/ipykernel_8378/4254308032.py:1: FutureWarning: In a future version of pandas all arguments of DataFrame.drop except for the argument 'labels' will be keyword-only.\n",
      "  features = num_data.drop(['winner','rated', 'turns'],1)\n"
     ]
    }
   ],
   "source": [
    "features = num_data.drop(['winner','rated', 'turns'],1)\n",
    "print('Features', features.head())\n",
    "\n",
    "labels = num_data['winner']\n",
    "print('Labels', labels.head())"
   ]
  },
  {
   "cell_type": "markdown",
   "id": "a2d7b66e",
   "metadata": {},
   "source": [
    "# Normalizando os dados de entrada(features)\n",
    "\n",
    "# Gerando o novo padrão"
   ]
  },
  {
   "cell_type": "code",
   "execution_count": 9,
   "id": "d6a89bc3",
   "metadata": {},
   "outputs": [
    {
     "name": "stdout",
     "output_type": "stream",
     "text": [
      "Features:  (20058, 5)\n",
      "[[0.00000000e+00 3.73695198e-01 2.07859359e-01 1.96054618e-01\n",
      "  1.52213868e-01]\n",
      " [4.98579050e-05 2.80793319e-01 2.44053775e-01 2.15221753e-01\n",
      "  2.32082442e-01]\n",
      " [9.97158099e-05 3.71607516e-01 3.67631851e-01 1.85995550e-01\n",
      "  1.96054618e-01]\n",
      " ...\n",
      " [9.99900284e-01 2.27035491e-01 2.56980352e-01 4.67379664e-01\n",
      "  1.73821749e-01]\n",
      " [9.99950142e-01 3.00626305e-01 2.26473630e-01 2.60734833e-01\n",
      "  1.79576617e-01]\n",
      " [1.00000000e+00 2.35386221e-01 2.84384695e-01 1.15987446e-01\n",
      "  1.98146675e-01]]\n"
     ]
    }
   ],
   "source": [
    "scaler = MinMaxScaler().fit(features)\n",
    "features_scale = scaler.transform(features)\n",
    "\n",
    "print ('Features: ',features_scale.shape)\n",
    "print (features_scale)"
   ]
  },
  {
   "cell_type": "markdown",
   "id": "db3fa3e3",
   "metadata": {},
   "source": [
    "# Separa em treinamento e teste\n",
    "\n",
    "Separação manual para manter a ordem cronológica, uma vez que temos informação temporal. \n",
    "\n",
    "- Treino linhas 0 a 2000\n",
    "- Teste linhas 2001 a 19057\n",
    "- Previsão linhas 19058 a 20058"
   ]
  },
  {
   "cell_type": "code",
   "execution_count": 10,
   "id": "9f8da018",
   "metadata": {},
   "outputs": [
    {
     "name": "stdout",
     "output_type": "stream",
     "text": [
      "2000 2000\n",
      "17056 17056\n"
     ]
    }
   ],
   "source": [
    "X_train = features_scale[:2000]\n",
    "X_test = features_scale[2001:19057]\n",
    "\n",
    "y_train = labels[:2000]\n",
    "y_test = labels[2001:19057]\n",
    "\n",
    "print(len(X_train), len(y_train))\n",
    "print(len(X_test), len(y_test))"
   ]
  },
  {
   "cell_type": "markdown",
   "id": "32ab7dba",
   "metadata": {},
   "source": [
    "# Treinando e testando os modelos\n",
    "\n",
    "- LogisticRegression"
   ]
  },
  {
   "cell_type": "code",
   "execution_count": 11,
   "id": "73ac49d2",
   "metadata": {},
   "outputs": [
    {
     "name": "stdout",
     "output_type": "stream",
     "text": [
      "Acurácia: 0.6099319887429644\n",
      "F1 Score: 0.6099319887429644\n"
     ]
    }
   ],
   "source": [
    "clf_LR = LogisticRegression(multi_class='multinomial',max_iter=2000)\n",
    "clf_LR.fit(X_train, y_train)\n",
    "pred = clf_LR.predict(X_test)\n",
    "\n",
    "lg_acc = accuracy_score(y_test, pred)\n",
    "f1 = f1_score(y_test,pred,average = 'micro')\n",
    "\n",
    "print(f'Acurácia: {lg_acc}')\n",
    "print(f'F1 Score: {lg_acc}')"
   ]
  },
  {
   "cell_type": "markdown",
   "id": "925d47ce",
   "metadata": {},
   "source": [
    "- LogistRegression with hyper params"
   ]
  },
  {
   "cell_type": "code",
   "execution_count": 12,
   "id": "c196bb14",
   "metadata": {},
   "outputs": [
    {
     "name": "stdout",
     "output_type": "stream",
     "text": [
      "Acurácia: 0.6099319887429644\n",
      "F1 Score:0.4148660293138033\n",
      "best params: LogisticRegression(C=1, max_iter=1000)\n"
     ]
    }
   ],
   "source": [
    "param_grid = {'C': [0.001, 0.01, 0.1, 1, 10, 100, 1000] }\n",
    "\n",
    "search = GridSearchCV(LogisticRegression(max_iter=1000), param_grid)\n",
    "\n",
    "search.fit(X_train,y_train)\n",
    "\n",
    "clf = search.best_estimator_\n",
    "\n",
    "pred = clf.predict(X_test)\n",
    "\n",
    "lg_acc = accuracy_score(y_test, pred)\n",
    "f1=f1_score(y_test,pred,average = 'macro')\n",
    "\n",
    "print(f'Acurácia: {lg_acc}')\n",
    "print(f'F1 Score:{f1}')\n",
    "\n",
    "print(f'best params: {clf}')"
   ]
  },
  {
   "cell_type": "markdown",
   "id": "bde098b9",
   "metadata": {},
   "source": [
    "- Support-vector machine (SVC)"
   ]
  },
  {
   "cell_type": "code",
   "execution_count": 13,
   "id": "9654f413",
   "metadata": {},
   "outputs": [
    {
     "name": "stdout",
     "output_type": "stream",
     "text": [
      "Acurácia:0.5242143527204502\n",
      "F1 Score:0.5242143527204502\n"
     ]
    }
   ],
   "source": [
    "clf = SVC()\n",
    "\n",
    "clf.fit(X_train, y_train)\n",
    "\n",
    "pred = clf.predict(X_test)\n",
    "\n",
    "svc_acc = accuracy_score(y_test, pred)\n",
    "f1 = f1_score(y_test,pred, average='micro')\n",
    "\n",
    "print(f'Acurácia:{svc_acc}')\n",
    "print(f'F1 Score:{f1}')"
   ]
  },
  {
   "cell_type": "markdown",
   "id": "95024116",
   "metadata": {},
   "source": [
    "- SVC with hyper params"
   ]
  },
  {
   "cell_type": "code",
   "execution_count": 14,
   "id": "5bcafded",
   "metadata": {},
   "outputs": [
    {
     "name": "stdout",
     "output_type": "stream",
     "text": [
      "Acurácia:0.5242143527204502\n",
      "F1 Score:0.5242143527204502\n",
      "best params: SVC(C=1)\n"
     ]
    }
   ],
   "source": [
    "param_grid = {'C': [0.001, 0.01, 0.1, 1, 10, 100, 1000] }\n",
    "\n",
    "search = GridSearchCV(SVC(), param_grid)\n",
    "\n",
    "search.fit(X_train,y_train)\n",
    "clf_SVC = search.best_estimator_\n",
    "pred= clf_SVC.predict(X_test)\n",
    "acc = accuracy_score(y_test, pred)\n",
    "\n",
    "\n",
    "f1=f1_score(y_test,pred,average = 'micro')\n",
    "\n",
    "print(f'Acurácia:{acc}')\n",
    "print(f'F1 Score:{f1}')\n",
    "print(f'best params: {clf_SVC}')"
   ]
  },
  {
   "cell_type": "markdown",
   "id": "745ff8f5",
   "metadata": {},
   "source": [
    "- Decision Tree"
   ]
  },
  {
   "cell_type": "code",
   "execution_count": 15,
   "id": "6a7895bc",
   "metadata": {},
   "outputs": [
    {
     "name": "stdout",
     "output_type": "stream",
     "text": [
      "Acurácia:0.487218574108818\n",
      "F1 Score:0.357173879010201\n"
     ]
    }
   ],
   "source": [
    "clf = DecisionTreeClassifier()\n",
    "clf.fit(X_train, y_train)\n",
    "\n",
    "pred= clf.predict(X_test)\n",
    "\n",
    "dt_acc = accuracy_score(y_test, pred)\n",
    "f1=f1_score(y_test,pred, average='macro')\n",
    "\n",
    "print(f'Acurácia:{dt_acc}')\n",
    "print(f'F1 Score:{f1}')\n",
    "\n",
    "\n",
    "n_estimators = [10, 50, 100, 200]\n",
    "max_depth = [3, 10, 20, 40]"
   ]
  },
  {
   "cell_type": "markdown",
   "id": "143db2f3",
   "metadata": {},
   "source": [
    "- Decision tree with hyper parameters"
   ]
  },
  {
   "cell_type": "code",
   "execution_count": 16,
   "id": "1ae5b699",
   "metadata": {},
   "outputs": [
    {
     "name": "stdout",
     "output_type": "stream",
     "text": [
      "Acurácia:0.5419793621013134\n",
      "F1 Score:0.5419793621013134\n",
      "best params: DecisionTreeClassifier(max_depth=110, max_features=2, min_samples_leaf=5,\n",
      "                       min_samples_split=8)\n"
     ]
    }
   ],
   "source": [
    "param_grid = {\n",
    "    'max_depth': [80, 90, 100, 110],\n",
    "    'max_features': [2, 3],\n",
    "    'min_samples_leaf': [3, 4, 5],\n",
    "    'min_samples_split': [8, 10, 12]\n",
    "}\n",
    "\n",
    "search = GridSearchCV(DecisionTreeClassifier(), param_grid)\n",
    "\n",
    "search.fit(X_train,y_train)\n",
    "clf = search.best_estimator_\n",
    "\n",
    "pred = clf.predict(X_test)\n",
    "dt_acc = accuracy_score(y_test, pred)\n",
    "\n",
    "\n",
    "f1 = f1_score(y_test,pred,average = 'micro')\n",
    "\n",
    "print(f'Acurácia:{dt_acc}')\n",
    "print(f'F1 Score:{f1}')\n",
    "print(f'best params: {clf}')"
   ]
  },
  {
   "cell_type": "markdown",
   "id": "7193bcd8",
   "metadata": {},
   "source": [
    "- Naive baeys"
   ]
  },
  {
   "cell_type": "code",
   "execution_count": 17,
   "id": "790b8dcc",
   "metadata": {},
   "outputs": [
    {
     "name": "stdout",
     "output_type": "stream",
     "text": [
      "Acurácia:{nb_acc}\n",
      "F1 Score:{f1}\n"
     ]
    }
   ],
   "source": [
    "clf = GaussianNB()\n",
    "clf.fit(X_train, y_train)\n",
    "\n",
    "pred = clf.predict(X_test)\n",
    "\n",
    "nb_acc = accuracy_score(y_test, pred)\n",
    "f1 = f1_score(y_test,pred, average='micro')\n",
    "\n",
    "print('Acurácia:{nb_acc}')\n",
    "print('F1 Score:{f1}')"
   ]
  },
  {
   "cell_type": "markdown",
   "id": "d832876d",
   "metadata": {},
   "source": [
    "# Executando a previsão\n",
    "\n",
    "LogisticRegression obteve a melhor acurácia."
   ]
  },
  {
   "cell_type": "code",
   "execution_count": 18,
   "id": "5d00091e",
   "metadata": {},
   "outputs": [
    {
     "name": "stdout",
     "output_type": "stream",
     "text": [
      "       real  previsao  game_id\n",
      "19058     1         0    19059\n",
      "19059     1         1    19060\n",
      "19060     0         0    19061\n",
      "19061     0         1    19062\n",
      "19062     0         0    19063\n",
      "...     ...       ...      ...\n",
      "20053     1         1    20054\n",
      "20054     0         1    20055\n",
      "20055     1         0    20056\n",
      "20056     1         1    20057\n",
      "20057     0         0    20058\n",
      "\n",
      "[1000 rows x 3 columns]\n"
     ]
    }
   ],
   "source": [
    "previsao = features_scale[19058:]\n",
    "\n",
    "game_id_full = data['game_id']\n",
    "game_id = game_id_full[19058:]\n",
    "\n",
    "winner_full = data['winner']\n",
    "winner = winner_full[19058:]\n",
    "\n",
    "pred = clf_LR.predict(previsao)\n",
    "\n",
    "df = pd.DataFrame({'real': winner, 'previsao':pred, 'game_id':game_id})\n",
    "\n",
    "print(df)"
   ]
  },
  {
   "cell_type": "markdown",
   "id": "c82fa7a5",
   "metadata": {},
   "source": [
    "# Apresentando resultados (confusion Matrix)"
   ]
  },
  {
   "cell_type": "code",
   "execution_count": 73,
   "id": "625b36ac",
   "metadata": {
    "scrolled": true
   },
   "outputs": [
    {
     "name": "stdout",
     "output_type": "stream",
     "text": [
      "0 = Black winner, 1 = White winner, 2 = Draw\n"
     ]
    },
    {
     "data": {
      "image/png": "[encoded data removed]",
      "text/plain": [
       "<Figure size 432x288 with 2 Axes>"
      ]
     },
     "metadata": {
      "needs_background": "light"
     },
     "output_type": "display_data"
    }
   ],
   "source": [
    "df = pd.DataFrame(df[:200], columns=['real','previsao'])\n",
    "\n",
    "cf_matrix = pd.crosstab(df['real'], df['previsao'], rownames=['real'] , colnames=['previsao'])\n",
    "\n",
    "sns.heatmap(cf_matrix, annot=True, cmap='BuPu')\n",
    "\n",
    "print('0 = Black winner, 1 = White winner, 2 = Draw')"
   ]
  }
 ],
 "metadata": {
  "kernelspec": {
   "display_name": "Python 3 (ipykernel)",
   "language": "python",
   "name": "python3"
  },
  "language_info": {
   "codemirror_mode": {
    "name": "ipython",
    "version": 3
   },
   "file_extension": ".py",
   "mimetype": "text/x-python",
   "name": "python",
   "nbconvert_exporter": "python",
   "pygments_lexer": "ipython3",
   "version": "3.8.10"
  }
 },
 "nbformat": 4,
 "nbformat_minor": 5
}
